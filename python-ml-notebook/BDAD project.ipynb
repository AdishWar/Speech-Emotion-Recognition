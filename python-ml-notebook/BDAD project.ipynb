{
 "cells": [
  {
   "cell_type": "code",
   "execution_count": 1,
   "metadata": {},
   "outputs": [],
   "source": [
    "\n",
    "import librosa\n",
    "import soundfile\n",
    "import os, glob\n",
    "import numpy as np\n",
    "import pickle, joblib\n"
   ]
  },
  {
   "cell_type": "markdown",
   "metadata": {},
   "source": [
    "# Modules to load data and extract features"
   ]
  },
  {
   "cell_type": "code",
   "execution_count": 6,
   "metadata": {},
   "outputs": [],
   "source": [
    "# Extract features : mfcc, chroma, mel\n",
    "\n",
    "def extract_feature(file, mfcc, chroma, mel):\n",
    "    with soundfile.SoundFile(file) as file:\n",
    "        X = file.read(dtype=\"float32\")\n",
    "        sample_rate=file.samplerate\n",
    "        \n",
    "        if chroma:\n",
    "            stft=np.abs(librosa.stft(X))\n",
    "        result=np.array([])\n",
    "        if mfcc:\n",
    "            mfccs=np.mean(librosa.feature.mfcc(y=X, sr=sample_rate, n_mfcc=40).T, axis=0)\n",
    "            result=np.hstack((result, mfccs))\n",
    "        if chroma:\n",
    "            chroma=np.mean(librosa.feature.chroma_stft(S=stft, sr=sample_rate).T,axis=0)\n",
    "            result=np.hstack((result, chroma))\n",
    "        if mel:\n",
    "            mel=np.mean(librosa.feature.melspectrogram(X, sr=sample_rate).T,axis=0)\n",
    "            result=np.hstack((result, mel))\n",
    "        \n",
    "        return result"
   ]
  },
  {
   "cell_type": "code",
   "execution_count": 8,
   "metadata": {},
   "outputs": [],
   "source": [
    "# Emotions in the RAVDESS dataset\n",
    "\n",
    "emotions={\n",
    "  '01':'neutral',\n",
    "  '02':'calm',\n",
    "  '03':'happy',\n",
    "  '04':'sad',\n",
    "  '05':'angry',\n",
    "  '06':'fearful',\n",
    "  '07':'disgust',\n",
    "  '08':'surprised'\n",
    "}\n",
    "\n",
    "# Emotions to observe\n",
    "observed_emotions = ['neutral','happy','angry','sad']\n",
    "# observed_emotions = ['neutral','calm','happy','sad','angry','fearful','disgust','surprised']"
   ]
  },
  {
   "cell_type": "code",
   "execution_count": 9,
   "metadata": {},
   "outputs": [],
   "source": [
    "\n",
    "# Load the data and extract features for each sound file\n",
    "\n",
    "wav_files = 'C:\\\\Users\\\\admin\\\\Downloads\\\\bdad-project\\\\speech-emotion-recognition-ravdess-data\\\\Actor_*\\\\*.wav'\n",
    "# wav_files = 'C:\\\\Users\\\\admin\\\\Downloads\\\\bdad-project\\\\sample-ravdess\\\\Actor_*\\\\*.wav'\n",
    "\n",
    "def load_data(test_size=0.2):\n",
    "    x,y=[],[]\n",
    "    for file in glob.glob(wav_files):\n",
    "        file_name=os.path.basename(file)\n",
    "        emotion=emotions[file_name.split(\"-\")[2]]\n",
    "        if emotion not in observed_emotions:\n",
    "            continue\n",
    "        feature=extract_feature(file, mfcc=True, chroma=True, mel=True)\n",
    "        x.append(feature)\n",
    "        y.append(emotion)\n",
    "    return train_test_split(np.array(x), y, test_size=test_size, random_state=9)\n"
   ]
  },
  {
   "cell_type": "markdown",
   "metadata": {},
   "source": [
    "# Creating and training the ML model"
   ]
  },
  {
   "cell_type": "code",
   "execution_count": 20,
   "metadata": {},
   "outputs": [
    {
     "name": "stdout",
     "output_type": "stream",
     "text": [
      "Iteration 1, loss = 8.41624275\n",
      "Iteration 2, loss = 3.16654037\n",
      "Iteration 3, loss = 3.52444921\n",
      "Iteration 4, loss = 2.76568082\n",
      "Iteration 5, loss = 2.66886089\n",
      "Iteration 6, loss = 2.61508936\n",
      "Iteration 7, loss = 1.64033360\n",
      "Iteration 8, loss = 2.51695730\n",
      "Iteration 9, loss = 2.09422028\n",
      "Iteration 10, loss = 1.64861419\n",
      "Iteration 11, loss = 2.62241075\n",
      "Iteration 12, loss = 1.68293334\n",
      "Iteration 13, loss = 1.54929481\n",
      "Iteration 14, loss = 1.63129548\n",
      "Iteration 15, loss = 1.59621575\n",
      "Iteration 16, loss = 1.20009299\n",
      "Iteration 17, loss = 1.14247698\n",
      "Iteration 18, loss = 0.91748540\n",
      "Iteration 19, loss = 1.35753978\n",
      "Iteration 20, loss = 1.01725971\n",
      "Iteration 21, loss = 1.01902313\n",
      "Iteration 22, loss = 0.88974705\n",
      "Iteration 23, loss = 0.99254995\n",
      "Iteration 24, loss = 1.01937519\n",
      "Iteration 25, loss = 0.75927876\n",
      "Iteration 26, loss = 1.69065352\n",
      "Iteration 27, loss = 0.98474146\n",
      "Iteration 28, loss = 1.00695165\n",
      "Iteration 29, loss = 0.76215256\n",
      "Iteration 30, loss = 0.81348290\n",
      "Iteration 31, loss = 0.60603783\n",
      "Iteration 32, loss = 0.59317045\n",
      "Iteration 33, loss = 0.81512123\n",
      "Iteration 34, loss = 0.57534036\n",
      "Iteration 35, loss = 0.56749906\n",
      "Iteration 36, loss = 0.69944020\n",
      "Iteration 37, loss = 0.50103137\n",
      "Iteration 38, loss = 0.71236576\n",
      "Iteration 39, loss = 0.80833515\n",
      "Iteration 40, loss = 0.69608515\n",
      "Iteration 41, loss = 0.58318942\n",
      "Iteration 42, loss = 0.50455553\n",
      "Iteration 43, loss = 0.60208795\n",
      "Iteration 44, loss = 0.77281699\n",
      "Iteration 45, loss = 0.77904282\n",
      "Iteration 46, loss = 0.57613762\n",
      "Iteration 47, loss = 0.45427939\n",
      "Iteration 48, loss = 0.55091666\n",
      "Iteration 49, loss = 0.41465428\n",
      "Iteration 50, loss = 0.57638875\n",
      "Iteration 51, loss = 0.41230334\n",
      "Iteration 52, loss = 0.43195316\n",
      "Iteration 53, loss = 0.37632599\n",
      "Iteration 54, loss = 0.37633542\n",
      "Iteration 55, loss = 0.37015327\n",
      "Iteration 56, loss = 0.61821997\n",
      "Iteration 57, loss = 0.37957605\n",
      "Iteration 58, loss = 0.45589999\n",
      "Iteration 59, loss = 0.33461189\n",
      "Iteration 60, loss = 0.35002130\n",
      "Iteration 61, loss = 0.35160808\n",
      "Iteration 62, loss = 0.43037842\n",
      "Iteration 63, loss = 0.32732410\n",
      "Iteration 64, loss = 0.27161050\n",
      "Iteration 65, loss = 0.30217581\n",
      "Iteration 66, loss = 0.35629606\n",
      "Iteration 67, loss = 0.37723160\n",
      "Iteration 68, loss = 0.30722149\n",
      "Iteration 69, loss = 0.45350947\n",
      "Iteration 70, loss = 0.36978688\n",
      "Iteration 71, loss = 0.29501016\n",
      "Iteration 72, loss = 0.28519123\n",
      "Iteration 73, loss = 0.30547343\n",
      "Iteration 74, loss = 0.25768879\n",
      "Iteration 75, loss = 0.21864993\n",
      "Iteration 76, loss = 0.20969894\n",
      "Iteration 77, loss = 0.22339409\n",
      "Iteration 78, loss = 0.24940445\n",
      "Iteration 79, loss = 0.28372110\n",
      "Iteration 80, loss = 0.23447389\n",
      "Iteration 81, loss = 0.26400662\n",
      "Iteration 82, loss = 0.28456557\n",
      "Iteration 83, loss = 0.22222347\n",
      "Iteration 84, loss = 0.18950562\n",
      "Iteration 85, loss = 0.19747408\n",
      "Iteration 86, loss = 0.29874286\n",
      "Iteration 87, loss = 0.37376351\n",
      "Iteration 88, loss = 0.27316756\n",
      "Iteration 89, loss = 0.29185818\n",
      "Iteration 90, loss = 0.31213456\n",
      "Iteration 91, loss = 0.24180625\n",
      "Iteration 92, loss = 0.21147837\n",
      "Iteration 93, loss = 0.18144843\n",
      "Iteration 94, loss = 0.18243318\n",
      "Iteration 95, loss = 0.22451507\n",
      "Iteration 96, loss = 0.25252839\n",
      "Iteration 97, loss = 0.42963907\n",
      "Iteration 98, loss = 0.26448429\n",
      "Iteration 99, loss = 0.23383482\n",
      "Iteration 100, loss = 0.21532427\n",
      "Iteration 101, loss = 0.18607230\n",
      "Iteration 102, loss = 0.15460923\n",
      "Iteration 103, loss = 0.14585760\n",
      "Iteration 104, loss = 0.16979844\n",
      "Iteration 105, loss = 0.18228000\n",
      "Iteration 106, loss = 0.17575294\n",
      "Iteration 107, loss = 0.17970491\n",
      "Iteration 108, loss = 0.18063938\n",
      "Iteration 109, loss = 0.25190428\n",
      "Iteration 110, loss = 0.27276962\n",
      "Iteration 111, loss = 0.26090908\n",
      "Iteration 112, loss = 0.25858646\n",
      "Iteration 113, loss = 0.16650017\n",
      "Iteration 114, loss = 0.17201778\n",
      "Training loss did not improve more than tol=0.000100 for 10 consecutive epochs. Stopping.\n",
      "test score: \n"
     ]
    },
    {
     "data": {
      "text/plain": [
       "0.7083333333333334"
      ]
     },
     "execution_count": 20,
     "metadata": {},
     "output_type": "execute_result"
    }
   ],
   "source": [
    "# creating the model\n",
    "\n",
    "from sklearn.model_selection import train_test_split\n",
    "from sklearn.neural_network import MLPClassifier\n",
    "from sklearn.metrics import accuracy_score\n",
    "\n",
    "x_train,x_test,y_train,y_test = load_data(test_size=0.25)\n",
    "\n",
    "model= MLPClassifier(\n",
    "            alpha=0.01, \n",
    "            batch_size=10, \n",
    "            epsilon=1e-08, \n",
    "            hidden_layer_sizes=(300,300), \n",
    "            learning_rate='adaptive', \n",
    "            max_iter=500,\n",
    "            verbose=True )\n",
    "\n",
    "model.fit(x_train, y_train)\n",
    "\n",
    "print('test score: ')\n",
    "model.score(x_test, y_test)\n"
   ]
  },
  {
   "cell_type": "code",
   "execution_count": 21,
   "metadata": {},
   "outputs": [
    {
     "data": {
      "text/plain": [
       "0.9722222222222222"
      ]
     },
     "execution_count": 21,
     "metadata": {},
     "output_type": "execute_result"
    }
   ],
   "source": [
    "model.score(x_train, y_train)"
   ]
  },
  {
   "cell_type": "code",
   "execution_count": 16,
   "metadata": {},
   "outputs": [
    {
     "data": {
      "text/plain": [
       "{'activation': 'relu',\n",
       " 'alpha': 0.01,\n",
       " 'batch_size': 10,\n",
       " 'beta_1': 0.9,\n",
       " 'beta_2': 0.999,\n",
       " 'early_stopping': False,\n",
       " 'epsilon': 1e-08,\n",
       " 'hidden_layer_sizes': (300,),\n",
       " 'learning_rate': 'adaptive',\n",
       " 'learning_rate_init': 0.001,\n",
       " 'max_iter': 500,\n",
       " 'momentum': 0.9,\n",
       " 'n_iter_no_change': 10,\n",
       " 'nesterovs_momentum': True,\n",
       " 'power_t': 0.5,\n",
       " 'random_state': None,\n",
       " 'shuffle': True,\n",
       " 'solver': 'adam',\n",
       " 'tol': 0.0001,\n",
       " 'validation_fraction': 0.1,\n",
       " 'verbose': False,\n",
       " 'warm_start': False}"
      ]
     },
     "execution_count": 16,
     "metadata": {},
     "output_type": "execute_result"
    }
   ],
   "source": [
    "model.get_params()"
   ]
  },
  {
   "cell_type": "code",
   "execution_count": 15,
   "metadata": {},
   "outputs": [
    {
     "data": {
      "text/plain": [
       "array([[1.24517921e-02, 1.32700245e-01, 8.54841013e-01, 6.95050077e-06]])"
      ]
     },
     "execution_count": 15,
     "metadata": {},
     "output_type": "execute_result"
    }
   ],
   "source": [
    "model.predict_proba(x_test[:1])\n",
    "# model.predict(x_test[:1])"
   ]
  },
  {
   "cell_type": "markdown",
   "metadata": {},
   "source": [
    "# Serializing the model"
   ]
  },
  {
   "cell_type": "code",
   "execution_count": 25,
   "metadata": {},
   "outputs": [],
   "source": [
    "# serialising the model object so we dont have to retrain it every time we run jupyter nb\n",
    "\n",
    "with open('E:\\\\Speech Emotion Analysis\\\\python-ml-notebook\\\\models\\\\model_fulldata_all_51_84', 'wb') as file:\n",
    "    pickle.dump(model, file)\n",
    "    # pickle.dump(model, model_pickle.pkl)\n"
   ]
  },
  {
   "cell_type": "code",
   "execution_count": 16,
   "metadata": {},
   "outputs": [
    {
     "data": {
      "text/plain": [
       "0.6309523809523809"
      ]
     },
     "execution_count": 16,
     "metadata": {},
     "output_type": "execute_result"
    }
   ],
   "source": [
    "\n",
    "# file names are in format: model_<fulldata/partial data>_<numberOfEmotions>_TestDataAccuracy_TrainDataAccuracy\n",
    "\n",
    "models = [\n",
    "    'E:\\\\Speech Emotion Analysis\\\\python-ml-notebook\\\\models\\\\model_fulldata_4_60_78',\n",
    "    'E:\\\\Speech Emotion Analysis\\\\python-ml-notebook\\\\models\\\\model_fulldata_4_63_73',\n",
    "    'E:\\\\Speech Emotion Analysis\\\\python-ml-notebook\\\\models\\\\model_fulldata_all_51_84'\n",
    "]\n",
    "\n",
    "with open(models[1], 'rb') as file:\n",
    "    model_unpickled = pickle.load(file)\n",
    "\n",
    "model_unpickled.score(x_test, y_test)\n"
   ]
  },
  {
   "cell_type": "code",
   "execution_count": 9,
   "metadata": {},
   "outputs": [
    {
     "name": "stdout",
     "output_type": "stream",
     "text": [
      "recording...\n",
      "DONE\n"
     ]
    }
   ],
   "source": [
    "# recording sound and storing as a wave file\n",
    "# REDUNDANT MODULE: voice recording functionality has been implemented in the frontend\n",
    "\n",
    "# import sounddevice \n",
    "# from scipy.io.wavfile import write\n",
    "\n",
    "# fs = 44100\n",
    "# seconds = 5\n",
    "# print(\"recording...\")\n",
    "# record_voice = sounddevice.rec(int(seconds*fs), samplerate=fs, channels=2)\n",
    "# sounddevice.wait()\n",
    "# write(\"C:\\\\Users\\\\admin\\\\Downloads\\\\bdad-project\\\\rec-voice.wav\", fs, record_voice)\n",
    "# print(\"DONE\")\n"
   ]
  },
  {
   "cell_type": "markdown",
   "metadata": {},
   "source": [
    "# Using the model to predict emotion of recorded voice sample"
   ]
  },
  {
   "cell_type": "code",
   "execution_count": 24,
   "metadata": {},
   "outputs": [
    {
     "name": "stdout",
     "output_type": "stream",
     "text": [
      "['C:\\\\Users\\\\admin\\\\Downloads\\\\56551fa4-eba0-4712-9252-d93cfec103c4.mp3', 'C:\\\\Users\\\\admin\\\\Downloads\\\\a178cf81-fb6e-4448-919d-a0a91230877e.mp3']\n"
     ]
    }
   ],
   "source": [
    "# searching mp3 files in Downloads folder\n",
    "\n",
    "mp3_files = glob.glob(\"C:\\\\Users\\\\admin\\\\Downloads\\\\*.mp3\")\n",
    "print(mp3_files)\n"
   ]
  },
  {
   "cell_type": "code",
   "execution_count": 25,
   "metadata": {},
   "outputs": [
    {
     "name": "stdout",
     "output_type": "stream",
     "text": [
      "Converted to wave\n"
     ]
    }
   ],
   "source": [
    "# Converting mp3 files to .wav format\n",
    "\n",
    "for file in mp3_files:\n",
    "    # convert wav to mp3 using ffmpeg\n",
    "    # ffmpeg is a seperate tool and runs on the command line\n",
    "    os.system(f\"\"\"ffmpeg -i {file} -acodec pcm_u8 -ar 22050 {file[:-4]}.wav\"\"\")   \n",
    "\n",
    "print('Converted to wave')"
   ]
  },
  {
   "cell_type": "code",
   "execution_count": 26,
   "metadata": {},
   "outputs": [],
   "source": [
    "# Extracting features from recorded voice\n",
    "\n",
    "file = 0\n",
    "wav_files = glob.glob('C:\\\\Users\\\\admin\\\\Downloads\\\\*.wav')\n",
    "\n",
    "for wav_file in wav_files:\n",
    "    file = wav_file\n",
    "\n",
    "features = extract_feature(file, mfcc=True, chroma=True, mel=True)\n"
   ]
  },
  {
   "cell_type": "code",
   "execution_count": 27,
   "metadata": {},
   "outputs": [
    {
     "data": {
      "text/plain": [
       "array(['disgust'], dtype='<U9')"
      ]
     },
     "execution_count": 27,
     "metadata": {},
     "output_type": "execute_result"
    }
   ],
   "source": [
    "# Predicting the emotion\n",
    "\n",
    "model.predict([features])"
   ]
  }
 ],
 "metadata": {
  "kernelspec": {
   "display_name": "Python 3",
   "language": "python",
   "name": "python3"
  },
  "language_info": {
   "codemirror_mode": {
    "name": "ipython",
    "version": 3
   },
   "file_extension": ".py",
   "mimetype": "text/x-python",
   "name": "python",
   "nbconvert_exporter": "python",
   "pygments_lexer": "ipython3",
   "version": "3.7.4"
  }
 },
 "nbformat": 4,
 "nbformat_minor": 2
}
