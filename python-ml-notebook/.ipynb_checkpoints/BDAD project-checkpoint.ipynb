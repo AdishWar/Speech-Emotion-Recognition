{
 "cells": [
  {
   "cell_type": "code",
   "execution_count": 1,
   "metadata": {},
   "outputs": [],
   "source": [
    "\n",
    "import librosa\n",
    "import soundfile\n",
    "import os, glob\n",
    "import numpy as np\n",
    "import pickle\n"
   ]
  },
  {
   "cell_type": "markdown",
   "metadata": {},
   "source": [
    "# Modules to load data and extract features"
   ]
  },
  {
   "cell_type": "code",
   "execution_count": 20,
   "metadata": {},
   "outputs": [],
   "source": [
    "# Extract features : mfcc, chroma, mel\n",
    "\n",
    "def extract_feature(file, mfcc, chroma, mel):\n",
    "    with soundfile.SoundFile(file) as file:\n",
    "        X = file.read(dtype=\"float32\")\n",
    "        sample_rate=file.samplerate\n",
    "        \n",
    "        if chroma:\n",
    "            stft=np.abs(librosa.stft(X))\n",
    "        result=np.array([])\n",
    "        if mfcc:\n",
    "            mfccs=np.mean(librosa.feature.mfcc(y=X, sr=sample_rate, n_mfcc=40).T, axis=0)\n",
    "            result=np.hstack((result, mfccs))\n",
    "        if chroma:\n",
    "            chroma=np.mean(librosa.feature.chroma_stft(S=stft, sr=sample_rate).T,axis=0)\n",
    "            result=np.hstack((result, chroma))\n",
    "        if mel:\n",
    "            mel=np.mean(librosa.feature.melspectrogram(X, sr=sample_rate).T,axis=0)\n",
    "            result=np.hstack((result, mel))\n",
    "        \n",
    "        return result"
   ]
  },
  {
   "cell_type": "code",
   "execution_count": 21,
   "metadata": {},
   "outputs": [],
   "source": [
    "# Emotions in the RAVDESS dataset\n",
    "\n",
    "emotions={\n",
    "  '01':'neutral',\n",
    "  '02':'calm',\n",
    "  '03':'happy',\n",
    "  '04':'sad',\n",
    "  '05':'angry',\n",
    "  '06':'fearful',\n",
    "  '07':'disgust',\n",
    "  '08':'surprised'\n",
    "}\n",
    "\n",
    "# Emotions to observe\n",
    "# observed_emotions = ['neutral','happy','angry','surprised']\n",
    "observed_emotions = ['neutral','calm','happy','sad','angry','fearful','disgust','surprised']"
   ]
  },
  {
   "cell_type": "code",
   "execution_count": 22,
   "metadata": {},
   "outputs": [],
   "source": [
    "\n",
    "# Load the data and extract features for each sound file\n",
    "\n",
    "wav_files = 'C:\\\\Users\\\\admin\\\\Downloads\\\\bdad-project\\\\speech-emotion-recognition-ravdess-data\\\\Actor_*\\\\*.wav'\n",
    "# wav_files = 'C:\\\\Users\\\\admin\\\\Downloads\\\\bdad-project\\\\sample-ravdess\\\\Actor_*\\\\*.wav'\n",
    "\n",
    "def load_data(test_size=0.2):\n",
    "    x,y=[],[]\n",
    "    for file in glob.glob(wav_files):\n",
    "        file_name=os.path.basename(file)\n",
    "        emotion=emotions[file_name.split(\"-\")[2]]\n",
    "        if emotion not in observed_emotions:\n",
    "            continue\n",
    "        feature=extract_feature(file, mfcc=True, chroma=True, mel=True)\n",
    "        x.append(feature)\n",
    "        y.append(emotion)\n",
    "    return train_test_split(np.array(x), y, test_size=test_size, random_state=9)\n"
   ]
  },
  {
   "cell_type": "markdown",
   "metadata": {},
   "source": [
    "# Creating and training the ML model"
   ]
  },
  {
   "cell_type": "code",
   "execution_count": 23,
   "metadata": {},
   "outputs": [
    {
     "data": {
      "text/plain": [
       "0.5111111111111111"
      ]
     },
     "execution_count": 23,
     "metadata": {},
     "output_type": "execute_result"
    }
   ],
   "source": [
    "# creating the model\n",
    "\n",
    "from sklearn.model_selection import train_test_split\n",
    "from sklearn.neural_network import MLPClassifier\n",
    "from sklearn.metrics import accuracy_score\n",
    "\n",
    "x_train,x_test,y_train,y_test = load_data(test_size=0.25)\n",
    "\n",
    "model= MLPClassifier(\n",
    "            alpha=0.01, \n",
    "            batch_size=10, \n",
    "            epsilon=1e-08, \n",
    "            hidden_layer_sizes=(300,), \n",
    "            learning_rate='adaptive', \n",
    "            max_iter=500 )\n",
    "\n",
    "model.fit(x_train, y_train)\n",
    "model.score(x_test, y_test)\n"
   ]
  },
  {
   "cell_type": "code",
   "execution_count": 24,
   "metadata": {},
   "outputs": [
    {
     "data": {
      "text/plain": [
       "0.8444444444444444"
      ]
     },
     "execution_count": 24,
     "metadata": {},
     "output_type": "execute_result"
    }
   ],
   "source": [
    "model.score(x_train, y_train)"
   ]
  },
  {
   "cell_type": "markdown",
   "metadata": {},
   "source": [
    "# Serializing the model"
   ]
  },
  {
   "cell_type": "code",
   "execution_count": 25,
   "metadata": {},
   "outputs": [],
   "source": [
    "# serialising the model object so we dont have to retrain it every time we run jupyter nb\n",
    "\n",
    "with open('E:\\\\Speech Emotion Analysis\\\\python-ml-notebook\\\\models\\\\model_fulldata_all_51_84', 'wb') as file:\n",
    "    pickle.dump(model, file)\n",
    "    # pickle.dump(model, model_pickle.pkl)\n"
   ]
  },
  {
   "cell_type": "code",
   "execution_count": 16,
   "metadata": {},
   "outputs": [
    {
     "data": {
      "text/plain": [
       "0.6309523809523809"
      ]
     },
     "execution_count": 16,
     "metadata": {},
     "output_type": "execute_result"
    }
   ],
   "source": [
    "\n",
    "# file names are in format: model_<fulldata/partial data>_<numberOfEmotions>_TestDataAccuracy_TrainDataAccuracy\n",
    "\n",
    "models = [\n",
    "    'E:\\\\Speech Emotion Analysis\\\\python-ml-notebook\\\\models\\\\model_fulldata_4_60_78',\n",
    "    'E:\\\\Speech Emotion Analysis\\\\python-ml-notebook\\\\models\\\\model_fulldata_4_63_73',\n",
    "    'E:\\\\Speech Emotion Analysis\\\\python-ml-notebook\\\\models\\\\model_fulldata_all_51_84'\n",
    "]\n",
    "\n",
    "with open(models[1], 'rb') as file:\n",
    "    model_unpickled = pickle.load(file)\n",
    "\n",
    "model_unpickled.score(x_test, y_test)\n"
   ]
  },
  {
   "cell_type": "code",
   "execution_count": 9,
   "metadata": {},
   "outputs": [
    {
     "name": "stdout",
     "output_type": "stream",
     "text": [
      "recording...\n",
      "DONE\n"
     ]
    }
   ],
   "source": [
    "# recording sound and storing as a wave file\n",
    "# REDUNDANT MODULE: voice recording functionality has been implemented in the frontend\n",
    "\n",
    "# import sounddevice \n",
    "# from scipy.io.wavfile import write\n",
    "\n",
    "# fs = 44100\n",
    "# seconds = 5\n",
    "# print(\"recording...\")\n",
    "# record_voice = sounddevice.rec(int(seconds*fs), samplerate=fs, channels=2)\n",
    "# sounddevice.wait()\n",
    "# write(\"C:\\\\Users\\\\admin\\\\Downloads\\\\bdad-project\\\\rec-voice.wav\", fs, record_voice)\n",
    "# print(\"DONE\")\n"
   ]
  },
  {
   "cell_type": "markdown",
   "metadata": {},
   "source": [
    "# Using the model to predict emotion of recorded voice sample"
   ]
  },
  {
   "cell_type": "code",
   "execution_count": 24,
   "metadata": {},
   "outputs": [
    {
     "name": "stdout",
     "output_type": "stream",
     "text": [
      "['C:\\\\Users\\\\admin\\\\Downloads\\\\56551fa4-eba0-4712-9252-d93cfec103c4.mp3', 'C:\\\\Users\\\\admin\\\\Downloads\\\\a178cf81-fb6e-4448-919d-a0a91230877e.mp3']\n"
     ]
    }
   ],
   "source": [
    "# searching mp3 files in Downloads folder\n",
    "\n",
    "mp3_files = glob.glob(\"C:\\\\Users\\\\admin\\\\Downloads\\\\*.mp3\")\n",
    "print(mp3_files)\n"
   ]
  },
  {
   "cell_type": "code",
   "execution_count": 25,
   "metadata": {},
   "outputs": [
    {
     "name": "stdout",
     "output_type": "stream",
     "text": [
      "Converted to wave\n"
     ]
    }
   ],
   "source": [
    "# Converting mp3 files to .wav format\n",
    "\n",
    "for file in mp3_files:\n",
    "    # convert wav to mp3 using ffmpeg\n",
    "    # ffmpeg is a seperate tool and runs on the command line\n",
    "    os.system(f\"\"\"ffmpeg -i {file} -acodec pcm_u8 -ar 22050 {file[:-4]}.wav\"\"\")   \n",
    "\n",
    "print('Converted to wave')"
   ]
  },
  {
   "cell_type": "code",
   "execution_count": 26,
   "metadata": {},
   "outputs": [],
   "source": [
    "# Extracting features from recorded voice\n",
    "\n",
    "file = 0\n",
    "wav_files = glob.glob('C:\\\\Users\\\\admin\\\\Downloads\\\\*.wav')\n",
    "\n",
    "for wav_file in wav_files:\n",
    "    file = wav_file\n",
    "\n",
    "features = extract_feature(file, mfcc=True, chroma=True, mel=True)\n"
   ]
  },
  {
   "cell_type": "code",
   "execution_count": 30,
   "metadata": {},
   "outputs": [
    {
     "data": {
      "text/plain": [
       "array(['neutral'], dtype='<U9')"
      ]
     },
     "execution_count": 30,
     "metadata": {},
     "output_type": "execute_result"
    }
   ],
   "source": [
    "# Predicting the emotion\n",
    "\n",
    "model.predict([features])"
   ]
  }
 ],
 "metadata": {
  "kernelspec": {
   "display_name": "Python 3",
   "language": "python",
   "name": "python3"
  },
  "language_info": {
   "codemirror_mode": {
    "name": "ipython",
    "version": 3
   },
   "file_extension": ".py",
   "mimetype": "text/x-python",
   "name": "python",
   "nbconvert_exporter": "python",
   "pygments_lexer": "ipython3",
   "version": "3.7.4"
  }
 },
 "nbformat": 4,
 "nbformat_minor": 2
}
